{
 "cells": [
  {
   "cell_type": "code",
   "execution_count": null,
   "metadata": {},
   "outputs": [],
   "source": [
    "import pandas as pd\n",
    "import numpy as np\n",
    "from math import cos,sin,pi\n",
    "import matplotlib as mpl\n",
    "import matplotlib.pyplot as plt\n",
    "import os\n",
    "import seaborn"
   ]
  },
  {
   "cell_type": "code",
   "execution_count": null,
   "metadata": {},
   "outputs": [],
   "source": [
    "data = pd.read_csv('2022-23-Record Book-WCCStats.csv')"
   ]
  },
  {
   "cell_type": "code",
   "execution_count": null,
   "metadata": {},
   "outputs": [],
   "source": [
    "# **Scatter Plot of Minutes Played vs Points on Average**\n",
    "\n",
    "x = data['Min']\n",
    "y = data['PtsAvg']\n",
    "\n",
    "plt.plot(x,y,'x')"
   ]
  },
  {
   "cell_type": "code",
   "execution_count": null,
   "metadata": {},
   "outputs": [],
   "source": [
    "fig,ax = plt.subplots()\n",
    "ax.set_xlim(0,400)\n",
    "ax.set_ylim(0,45)\n",
    "sc = ax.scatter(x,y)\n",
    "\n",
    "\n",
    "plt.show()"
   ]
  },
  {
   "cell_type": "code",
   "execution_count": null,
   "metadata": {},
   "outputs": [],
   "source": [
    "a = data['FTA']\n",
    "b = data['FT']\n",
    "\n",
    "x, y = np.polyfit(a, b, 1)\n",
    "\n",
    "plt.plot(a, b, 'o')\n",
    "\n",
    "plt.plot(a, x*a+y) "
   ]
  },
  {
   "cell_type": "code",
   "execution_count": null,
   "metadata": {},
   "outputs": [],
   "source": [
    "givenDataset = pd.read_csv('2022-23-Record Book-WCCStats.csv')\n",
    "# Assigning the list of columns from the dataset \n",
    "numericColumns = ['FoulAvg','PtsAvg','MinAvg', 'FTPct', '3Pct']\n",
    "\n",
    "# Creating a correlation matrix \n",
    "correlationMatrix  = givenDataset.loc[:,numericColumns].corr()\n",
    "# Printing the correlation matrix.\n",
    "print(correlationMatrix)\n",
    "# Displaying the correlation matrix\n",
    "seaborn.heatmap(correlationMatrix, annot=True)"
   ]
  },
  {
   "cell_type": "code",
   "execution_count": null,
   "metadata": {},
   "outputs": [],
   "source": [
    "givenDataset = pd.read_csv('2022-23-Record Book-WCCStats.csv')\n",
    "# Assigning the list of columns from the dataset \n",
    "numericColumns = ['Off','Def','Stl', 'Blk']\n",
    "\n",
    "# Creating a correlation matrix \n",
    "correlationMatrix  = givenDataset.loc[:,numericColumns].corr()\n",
    "# Printing the correlation matrix.\n",
    "print(correlationMatrix)\n",
    "# Displaying the correlation matrix\n",
    "seaborn.heatmap(correlationMatrix, annot=True)\n"
   ]
  }
 ],
 "metadata": {
  "language_info": {
   "name": "python"
  },
  "orig_nbformat": 4
 },
 "nbformat": 4,
 "nbformat_minor": 2
}
