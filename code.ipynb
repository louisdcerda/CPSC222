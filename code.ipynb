{
 "cells": [
  {
   "attachments": {},
   "cell_type": "markdown",
   "metadata": {},
   "source": [
    "**I. Introduction**\n",
    "\n",
    "This project is based around the West Coast Conference Tournament player statistics for Gonzaga University from the years 1999-2023. \n",
    "\n",
    "These statistics are important to us because we have a huge amount of school spirit and it's interesting to look at past and present players who represent(ed) our school in the WCC Tournament. We wanted to research this domain to get a better understanding of the correlations between different statistics within the sport of basketball, and what better team to look at then our own university.  \n",
    "\n",
    "Our dataset is formatted in a CSV file which was pulled from a PDF available at: https://gozags.com/documents/2022/10/7/2022-23_Record_Book.pdf\n",
    "The PDF is labeled \"2022-23 Gonzaga Men's Basketball Record Book\". Our CSV file contains 174 rows, each containing a player and his stats. There are 27 columns, 25 of which contain different stats and 2 of which contain the player's name and uniform number. \n",
    "\n",
    "The 25 columns containing statistics are as follows: Games Played (GP), Games Started (GS), Total Minutes Played (Min), Average Minutes per Game (MinAvg), Field Goals Made (FG), Field Goal Attempts (FGA), Field Goal Percentage (FGPct), 3-Points Made (3FG), 3-Point Attempts (3FGA), 3-Point Percentage (3Pct), Free Throws Made (FT), Free Throw Attempts (FTA), Free Throw Percentage (FTPct), Offensive Fouls (Off), Defensive Fouls (Def), Total Fouls (Tot), Average Fouls per Game (FoulAvg), Personal Fouls (PF), Fouled Out (FO), Assists (A), Turnovers (TO), Blocks (Blk), Steals (Stl), Points (Pts), and lastly Average Points per Game (PtsAvg). \n",
    "\n",
    "In this project, we are trying to classify and identify relations between different player statistics and find potential correlations. For example, does a player with more points per game have more offensive fouls? \n",
    "\n",
    "Some potential stakeholders in a project like ours could be coaches/trainers, as they would be able to visualize and see the correlations between certain stats and know what to have their players aim for. Fans and media might also find interest in such a project and could use any insights gained to better analyze and understand the performance of a team based off it's player's statistics. \n",
    "\n",
    "---"
   ]
  },
  {
   "attachments": {},
   "cell_type": "markdown",
   "metadata": {},
   "source": [
    "**II. Data Analysis**\n",
    "\n",
    "To start, we had to move our data from a PDF file over to a CSV file. Luckily, there are many websites that allow for this transformation, and it did not take long to export the data from our PDF to a CSV. \n",
    "\n",
    "As for cleaning our data, we simply removed any rows that had less than 5 minutes played so that the players who had very little impact were not counted in our calculations. Some challenges we faced at first with our data preparation were finding the write tool to convert PDF to CSV. Another problem that we ran in to were skewed results. However, as mentioned before, removing players with less than 5 minutes played fixed this problem. \n",
    "\n",
    "We used a number of different visualizations to present the attributes and their relationships. You will see scatter plots, lines of best-fit, correlation matrices and bar graphs representing our data. \n",
    "\n",
    "Null Hypothesis: \n",
    "\n",
    "Alternative Hypothesis: \n",
    "\n",
    "---"
   ]
  },
  {
   "cell_type": "code",
   "execution_count": null,
   "metadata": {},
   "outputs": [],
   "source": [
    "import pandas as pd\n",
    "import numpy as np\n",
    "from math import cos,sin,pi\n",
    "import matplotlib as mpl\n",
    "import matplotlib.pyplot as plt\n",
    "import os\n",
    "import seaborn"
   ]
  },
  {
   "cell_type": "code",
   "execution_count": null,
   "metadata": {},
   "outputs": [],
   "source": [
    "data = pd.read_csv('2022-23-Record Book-WCCStats.csv')"
   ]
  },
  {
   "attachments": {},
   "cell_type": "markdown",
   "metadata": {},
   "source": [
    "**Scatter Plot of Minutes Played vs Points on Average**\n",
    "\n",
    "---"
   ]
  },
  {
   "cell_type": "code",
   "execution_count": null,
   "metadata": {},
   "outputs": [],
   "source": [
    "\n",
    "x = data['Min']\n",
    "y = data['PtsAvg']\n",
    "\n",
    "plt.plot(x,y,'x')"
   ]
  },
  {
   "cell_type": "code",
   "execution_count": null,
   "metadata": {},
   "outputs": [],
   "source": [
    "fig,ax = plt.subplots()\n",
    "ax.set_xlim(0,400)\n",
    "ax.set_ylim(0,45)\n",
    "sc = ax.scatter(x,y)\n",
    "\n",
    "\n",
    "plt.show()"
   ]
  },
  {
   "attachments": {},
   "cell_type": "markdown",
   "metadata": {},
   "source": [
    "**Line of Best Fit for Free Throws Attempted vs Free Throws Made**\n",
    "\n",
    "---\n"
   ]
  },
  {
   "cell_type": "code",
   "execution_count": null,
   "metadata": {},
   "outputs": [],
   "source": [
    "a = data['FTA']\n",
    "b = data['FT']\n",
    "\n",
    "x, y = np.polyfit(a, b, 1)\n",
    "\n",
    "plt.plot(a, b, 'o')\n",
    "\n",
    "plt.plot(a, x*a+y) "
   ]
  },
  {
   "attachments": {},
   "cell_type": "markdown",
   "metadata": {},
   "source": [
    "**Correlation Matrix comparing Foul Average, Points Average, Minutes Played Average, Free-Throw Percent and 3-Point Percent**\n",
    "\n",
    "\n",
    "---\n",
    "\n"
   ]
  },
  {
   "cell_type": "code",
   "execution_count": null,
   "metadata": {},
   "outputs": [],
   "source": [
    "givenDataset = pd.read_csv('2022-23-Record Book-WCCStats.csv')\n",
    "# Assigning the list of columns from the dataset \n",
    "numericColumns = ['FoulAvg','PtsAvg','MinAvg', 'FTPct', '3Pct']\n",
    "\n",
    "# Creating a correlation matrix \n",
    "correlationMatrix  = givenDataset.loc[:,numericColumns].corr()\n",
    "# Printing the correlation matrix.\n",
    "print(correlationMatrix)\n",
    "# Displaying the correlation matrix\n",
    "seaborn.heatmap(correlationMatrix, annot=True)"
   ]
  },
  {
   "attachments": {},
   "cell_type": "markdown",
   "metadata": {},
   "source": [
    "**Correlation Matrix comparing Offensive Fouls, Defensive Fouls, Steals, Blocks**\n",
    "\n",
    "---"
   ]
  },
  {
   "cell_type": "code",
   "execution_count": null,
   "metadata": {},
   "outputs": [],
   "source": [
    "givenDataset = pd.read_csv('2022-23-Record Book-WCCStats.csv')\n",
    "# Assigning the list of columns from the dataset \n",
    "numericColumns = ['Off','Def','Stl', 'Blk']\n",
    "\n",
    "# Creating a correlation matrix \n",
    "correlationMatrix  = givenDataset.loc[:,numericColumns].corr()\n",
    "# Printing the correlation matrix.\n",
    "print(correlationMatrix)\n",
    "# Displaying the correlation matrix\n",
    "seaborn.heatmap(correlationMatrix, annot=True)\n"
   ]
  }
 ],
 "metadata": {
  "kernelspec": {
   "display_name": "Python 3",
   "language": "python",
   "name": "python3"
  },
  "language_info": {
   "codemirror_mode": {
    "name": "ipython",
    "version": 3
   },
   "file_extension": ".py",
   "mimetype": "text/x-python",
   "name": "python",
   "nbconvert_exporter": "python",
   "pygments_lexer": "ipython3",
   "version": "3.10.11"
  },
  "orig_nbformat": 4
 },
 "nbformat": 4,
 "nbformat_minor": 2
}
